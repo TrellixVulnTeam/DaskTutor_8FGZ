{
 "cells": [
  {
   "cell_type": "markdown",
   "metadata": {},
   "source": [
    "<img src=\"images/dask_horizontal.svg\" align=\"right\" width=\"30%\">"
   ]
  },
  {
   "cell_type": "markdown",
   "metadata": {},
   "source": [
    "# 引言\n",
    "\n",
    "Dask是一个并行计算库，可扩展现有的Python生态系统。本教程将更广泛地介绍Dask和并行数据分析。\n",
    "\n",
    "Dask下可兼容你的笔记本电脑，向上可扩展到一个集群。在这里，我们将使用你在笔记本电脑上设置的环境，在本地并行分析中等规模的数据集。\n",
    "\n",
    "在YouTube上Dask下有系列的完整教程。"
   ]
  },
  {
   "cell_type": "markdown",
   "metadata": {},
   "source": [
    "## Overview"
   ]
  },
  {
   "cell_type": "markdown",
   "metadata": {},
   "source": [
    "Dask在大于内存的数据集上提供多核和分布式并行执行。\n",
    "\n",
    "我们可以从高层次和低层次的角度来看待 Dask\n",
    "\n",
    "* **高级集合：** Dask提供高级Array、Bag和DataFrame。集合，模仿NumPy、list和Pandas，但可以并行运行在 的数据集。 Dask 的高级集合是 NumPy和Pandas的替代品，用于大型数据集。\n",
    "* **低级调度器：** Dask提供动态任务调度器，可实现以下功能 并行执行任务图。 这些执行引擎为 上面提到的高级集合，但也可以为自定义提供动力。用户定义的工作负载。 这些调度器是低延迟（约1ms）和 努力在较小的内存占用范围内运行计算。 Dask的 调度器是直接使用 \"线程 \"或 \"线程 \"的替代方案。  复杂情况下的 \"多处理 \"库或其他任务调度。 系统，如 \"Luigi \"或 \"IPython并行\"。\n",
    "\n",
    "不同的用户在不同的层次上进行操作，但了解这两个层次是有用的。\n",
    "\n",
    "[Dask] (https://stories.dask.org/en/latest/)提供了许多Dask应该适合的工作流程样本。"
   ]
  },
  {
   "cell_type": "markdown",
   "metadata": {},
   "source": [
    "## 准备工作"
   ]
  },
  {
   "cell_type": "markdown",
   "metadata": {},
   "source": [
    "You should clone this repository: \n",
    "\n",
    "    git clone http://github.com/dask/dask-tutorial\n",
    "\n",
    "The included file `environment.yml` in the `binder` subdirectory contains a list of all of the packages needed to run this tutorial. To install them using `conda`, you can do\n",
    "\n",
    "你应该克隆这个版本库。\n",
    "\n",
    "    git clone http://github.com/dask/dask-tutorial\n",
    "\n",
    "在`binder`子目录下的`environment.yml`文件中包含了运行本教程所需的所有包的列表。要使用 \"conda \"安装它们，你可以这样做：\n",
    "\n",
    "    conda env create -f binder/environment.yml\n",
    "    conda activate dask-tutorial\n",
    "    jupyter labextension install @jupyter-widgets/jupyterlab-manager\n",
    "    jupyter labextension install @bokeh/jupyter_bokeh\n",
    "\n",
    "在运行本笔记本之前，请先进行*。"
   ]
  },
  {
   "cell_type": "markdown",
   "metadata": {},
   "source": [
    "## 有用的链接"
   ]
  },
  {
   "cell_type": "markdown",
   "metadata": {},
   "source": [
    "*  Reference\n",
    "    *  [Docs](https://dask.org/)\n",
    "    *  [Examples](https://examples.dask.org/)\n",
    "    *  [Code](https://github.com/dask/dask/)\n",
    "    *  [Blog](https://blog.dask.org/)\n",
    "*  Ask for help\n",
    "    *   [`dask`](http://stackoverflow.com/questions/tagged/dask) tag on Stack Overflow, for usage questions\n",
    "    *   [github issues](https://github.com/dask/dask/issues/new) for bug reports and feature requests\n",
    "    *   [gitter chat](https://gitter.im/dask/dask) for general, non-bug, discussion\n",
    "    *   Attend a live tutorial"
   ]
  },
  {
   "cell_type": "markdown",
   "metadata": {},
   "source": [
    "## 教程结构\n",
    "\n",
    "每个部分都是一个Jupyter笔记本。有文字、代码和练习的混合。\n",
    "\n",
    "如果你没有使用过Jupyterlab，它类似于Jupyter Notebook。如果你没有使用过笔记本，快速的介绍是\n",
    "\n",
    "1. 有两种模式：命令和编辑\n",
    "2. 在命令模式下，按 \"Enter \"键编辑一个单元格（如这个标记单元格）。\n",
    "3. 在编辑模式下，按 \"Esc \"键切换到命令模式。\n",
    "4. 按`shift+enter`键执行一个单元格并移动到下一个单元格。\n",
    "\n",
    "工具栏上有执行、转换和创建单元格的命令。\n",
    "\n",
    "本教程的布局如下。\n",
    "- 基础：解释什么是 Dask，它是如何工作的，以及如何使用低级基元来设置计算。普通用户可能希望跳过本节，尽管我们认为这对所有用户都是有用的知识。\n",
    "- 分布式：关于在分布式调度器上运行Dask的信息，分布式调度器可以实现对分布式设置的扩展和对任务操作的增强监控。分布式调度器现在通常是执行任务工作的推荐引擎，即使在单个工作站或笔记本电脑上也是如此。\n",
    "- 集合：方便的抽象，给人熟悉的大数据感觉\n",
    "    - 袋。Python迭代器的功能范式，如在func/iter-tools和toolz中发现的 -- -- 将列表/生成器泛化为大数据；这对于PySpark[RDD](http://spark.apache.org/docs/2.1.0/api/python/pyspark.html#pyspark.RDD)的用户来说似乎非常熟悉。\n",
    "    - 数组：海量多维数值数据，具有Numpy功能。\n",
    "    - 数据框架：大量的表格数据，具有Pandas功能。\n",
    "\n",
    "虽然上面链接的文档中有大量的信息，但在这里，我们的目的是提供实用的建议，以帮助您在日常情况下理解和应用 Dask。这意味着您不应该期望涵盖 Dask 的每一个功能，但希望这些例子与您心中的工作流程类型相似。\n",
    "\n",
    "## 练习:打印 \"你好，世界！\n",
    "每个笔记本都会有习题供你解决。你会得到一个空白或部分完成的单元格，然后是一个隐藏的单元格，里面有一个解决方案。比如说\n",
    "\n",
    "\n",
    "打印文本 \"你好，世界！\"。"
   ]
  },
  {
   "cell_type": "code",
   "execution_count": null,
   "metadata": {},
   "outputs": [],
   "source": [
    "# Your code here"
   ]
  },
  {
   "cell_type": "markdown",
   "metadata": {},
   "source": [
    "下一个单元格有解决方案。点击省略号来展开解决方案，并始终确保运行解决方案单元格。\n",
    "以防笔记本后面的部分依赖于解决方案的输出。"
   ]
  },
  {
   "cell_type": "code",
   "execution_count": null,
   "metadata": {
    "jupyter": {
     "source_hidden": true
    }
   },
   "outputs": [],
   "source": [
    "print(\"Hello, world!\")"
   ]
  }
 ],
 "metadata": {
  "anaconda-cloud": {},
  "kernelspec": {
   "display_name": "Python 3",
   "language": "python",
   "name": "python3"
  },
  "language_info": {
   "codemirror_mode": {
    "name": "ipython",
    "version": 3
   },
   "file_extension": ".py",
   "mimetype": "text/x-python",
   "name": "python",
   "nbconvert_exporter": "python",
   "pygments_lexer": "ipython3",
   "version": "3.8.3"
  }
 },
 "nbformat": 4,
 "nbformat_minor": 4
}