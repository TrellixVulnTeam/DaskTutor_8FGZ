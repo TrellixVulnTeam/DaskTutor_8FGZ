{
 "cells": [
  {
   "cell_type": "markdown",
   "metadata": {},
   "source": [
    "<img src=\"http://dask.readthedocs.io/en/latest/_images/dask_horizontal.svg\"\n",
    "     align=\"right\"\n",
    "     width=\"30%\"\n",
    "     alt=\"Dask logo\\\">\n",
    "\n",
    "# `dask.delayed`并行编程\n",
    "\n",
    "在本节中，我们用Dask和`dask.delayed`并行处理简单的for-loop风格的代码。通常情况下，这是您需要转换用于Dask的函数的唯一函数。\n",
    "\n",
    "这是使用`dask`来并行化现有代码库或构建[复杂系统](https://blog.dask.org/2018/02/09/credit-models-with-dask)的简单方法。 这也将帮助我们对后面的章节形成理解。\n",
    "\n",
    "**相关文档**\n",
    "\n",
    "* [Delayed documentation](https://docs.dask.org/en/latest/delayed.html)\n",
    "* [Delayed screencast](https://www.youtube.com/watch?v=SHqFmynRxVU)\n",
    "* [Delayed API](https://docs.dask.org/en/latest/delayed-api.html)\n",
    "* [Delayed examples](https://examples.dask.org/delayed.html)\n",
    "* [Delayed best practices](https://docs.dask.org/en/latest/delayed-best-practices.html)"
   ]
  },
  {
   "cell_type": "markdown",
   "metadata": {},
   "source": [
    "正如我们在[分布式调度器笔记本](05_distributed.ipynb)中看到的，Dask有几种并行执行代码的方式。我们将通过创建一个`dask.distributed.Client`来使用分布式调度器。目前，这将为我们提供一些不错的诊断。我们将在后面深入讨论调度器。"
   ]
  },
  {
   "cell_type": "code",
   "execution_count": null,
   "metadata": {},
   "outputs": [],
   "source": [
    "from dask.distributed import Client\n",
    "\n",
    "client = Client(n_workers=4)"
   ]
  },
  {
   "cell_type": "markdown",
   "metadata": {},
   "source": [
    "## 基础\n",
    "\n",
    "首先让我们做一些玩具函数，`inc`和`add`，它们会睡一会儿来模拟工作。然后我们会定时正常运行这些函数。\n",
    "\n",
    "在下一节中，我们将对这段代码进行并行处理。"
   ]
  },
  {
   "cell_type": "code",
   "execution_count": null,
   "metadata": {},
   "outputs": [],
   "source": [
    "from time import sleep\n",
    "\n",
    "def inc(x):\n",
    "    sleep(1)\n",
    "    return x + 1\n",
    "\n",
    "def add(x, y):\n",
    "    sleep(1)\n",
    "    return x + y"
   ]
  },
  {
   "cell_type": "markdown",
   "metadata": {},
   "source": [
    "我们使用\"%%time \"魔法对这段普通代码的执行进行计时，这是Jupyter Notebook的一个特殊函数。"
   ]
  },
  {
   "cell_type": "code",
   "execution_count": null,
   "metadata": {},
   "outputs": [],
   "source": [
    "%%time\n",
    "# This takes three seconds to run because we call each\n",
    "# function sequentially, one after the other\n",
    "\n",
    "x = inc(1)\n",
    "y = inc(2)\n",
    "z = add(x, y)"
   ]
  },
  {
   "cell_type": "markdown",
   "metadata": {},
   "source": [
    "### 使用`dask.delayed`装饰器并行化\n",
    "\n",
    "这两个增量调用*可以并行调用，因为它们完全相互独立。\n",
    "\n",
    "我们将使用`dask.delayed`函数来转换`inc`和`add`函数。当我们通过传递参数来调用延迟版本时，与之前完全一样，原始函数实际上还没有被调用--这就是为什么单元格的执行很快就结束了。\n",
    "取而代之的是一个*delayed对象*，它跟踪要调用的函数和要传递给它的参数。\n"
   ]
  },
  {
   "cell_type": "code",
   "execution_count": null,
   "metadata": {},
   "outputs": [],
   "source": [
    "from dask import delayed"
   ]
  },
  {
   "cell_type": "code",
   "execution_count": null,
   "metadata": {},
   "outputs": [],
   "source": [
    "%%time\n",
    "# 这将立即运行，它所做的就是建立一个图\n",
    "\n",
    "x = delayed(inc)(1)\n",
    "y = delayed(inc)(2)\n",
    "z = delayed(add)(x, y)"
   ]
  },
  {
   "cell_type": "markdown",
   "metadata": {},
   "source": [
    "这个立即运行，因为还没有真正发生什么。\n",
    "\n",
    "为了得到结果，调用`compute`。请注意，这比原来的代码运行得更快。"
   ]
  },
  {
   "cell_type": "code",
   "execution_count": null,
   "metadata": {},
   "outputs": [],
   "source": [
    "%%time\n",
    "# 这实际上是使用一个本地线程池来运行我们的计算。\n",
    "\n",
    "z.compute()"
   ]
  },
  {
   "cell_type": "markdown",
   "metadata": {},
   "source": [
    "## 刚才发生了什么？\n",
    "\n",
    "`z`对象是一个懒惰的`Delayed`对象。 这个对象包含了我们计算最终结果所需要的一切，包括对所有需要的函数的引用以及它们的输入和彼此之间的关系。 我们可以像上面一样用`.compute()`来评估结果，也可以用`.visualize()`来可视化这个值的任务图。"
   ]
  },
  {
   "cell_type": "code",
   "execution_count": null,
   "metadata": {},
   "outputs": [],
   "source": [
    "z"
   ]
  },
  {
   "cell_type": "code",
   "execution_count": null,
   "metadata": {},
   "outputs": [],
   "source": [
    "# 看`z`的任务图。\n",
    "z.visualize()"
   ]
  },
  {
   "cell_type": "markdown",
   "metadata": {},
   "source": [
    "请注意，这包括之前的函数名称，以及 \"inc \"函数的输出到 \"add \"输入的逻辑流程。"
   ]
  },
  {
   "cell_type": "markdown",
   "metadata": {},
   "source": [
    "### 一些需要考虑的问题\n",
    "\n",
    "- 为什么我们要从3秒变成2秒？ 为什么我们不能并行化到1s？\n",
    "- 如果 inc 和 add 函数不包含 `sleep(1)`，会发生什么？ Dask 还能加快这段代码的速度吗？\n",
    "- 如果我们有多个输出，或者也想访问x或y，怎么办？"
   ]
  },
  {
   "cell_type": "markdown",
   "metadata": {},
   "source": [
    "## 练习: 并行化一个for循环\n",
    "\n",
    "`for`循环是我们想要并行化的最常见的事情之一。 在`inc`和`sum`上使用`dask.delayed`来并行化下面的计算。"
   ]
  },
  {
   "cell_type": "code",
   "execution_count": null,
   "metadata": {},
   "outputs": [],
   "source": [
    "data = [1, 2, 3, 4, 5, 6, 7, 8]"
   ]
  },
  {
   "cell_type": "code",
   "execution_count": null,
   "metadata": {},
   "outputs": [],
   "source": [
    "%%time\n",
    "# Sequential code\n",
    "\n",
    "results = []\n",
    "for x in data:\n",
    "    y = inc(x)\n",
    "    results.append(y)\n",
    "    \n",
    "total = sum(results)"
   ]
  },
  {
   "cell_type": "code",
   "execution_count": null,
   "metadata": {},
   "outputs": [],
   "source": [
    "total"
   ]
  },
  {
   "cell_type": "code",
   "execution_count": null,
   "metadata": {},
   "outputs": [],
   "source": [
    "%%time\n",
    "# Your parallel code here..."
   ]
  },
  {
   "cell_type": "code",
   "execution_count": null,
   "metadata": {
    "jupyter": {
     "source_hidden": true
    }
   },
   "outputs": [],
   "source": [
    "results = []\n",
    "\n",
    "for x in data:\n",
    "    y = delayed(inc)(x)\n",
    "    results.append(y)\n",
    "    \n",
    "total = delayed(sum)(results)\n",
    "print(\"Before computing:\", total)  # Let's see what type of thing total is\n",
    "result = total.compute()\n",
    "print(\"After computing :\", result)  # After it's computed"
   ]
  },
  {
   "cell_type": "markdown",
   "metadata": {},
   "source": [
    "与给定的方案相比，与直接使用`sum`函数而不是用`delayed`包装的版本相比，图形可视化效果如何？你能解释一下后一个版本吗？你可能会发现以下表达式的结果很有启发性。\n",
    "```python\n",
    "delayed(inc)(1) + delayed(inc)(2)\n",
    "```"
   ]
  },
  {
   "cell_type": "markdown",
   "metadata": {},
   "source": [
    "## 练习。并行化一个带有控制流的for-loop代码。\n",
    "\n",
    "通常我们只想延迟*部分函数，立即运行其中的几个函数。 当这些函数速度很快的时候，这特别有用，可以帮助我们确定应该调用哪些其他较慢的函数。 在使用`dask.delayed`的时候，这个延迟或不延迟的决定，通常是我们需要深思熟虑的地方。\n",
    "\n",
    "在下面的例子中，我们迭代一个输入列表。 如果该输入是偶数，那么我们要调用`inc`。 如果该输入是奇数，那么我们要调用`double`。 为了使我们的Python代码能够继续进行，必须立即做出调用inc`或double`的`is_even`决定(而不是懒惰地)。"
   ]
  },
  {
   "cell_type": "code",
   "execution_count": null,
   "metadata": {},
   "outputs": [],
   "source": [
    "def double(x):\n",
    "    sleep(1)\n",
    "    return 2 * x\n",
    "\n",
    "def is_even(x):\n",
    "    return not x % 2\n",
    "\n",
    "data = [1, 2, 3, 4, 5, 6, 7, 8, 9, 10]"
   ]
  },
  {
   "cell_type": "code",
   "execution_count": null,
   "metadata": {},
   "outputs": [],
   "source": [
    "%%time\n",
    "# Sequential code\n",
    "\n",
    "results = []\n",
    "for x in data:\n",
    "    if is_even(x):\n",
    "        y = double(x)\n",
    "    else:\n",
    "        y = inc(x)\n",
    "    results.append(y)\n",
    "    \n",
    "total = sum(results)\n",
    "print(total)"
   ]
  },
  {
   "cell_type": "code",
   "execution_count": null,
   "metadata": {},
   "outputs": [],
   "source": [
    "%%time\n",
    "# Your parallel code here...\n",
    "# TODO: 使用dask.delayed并行处理上面的顺序执行代码\n",
    "# 你需要延迟一些函数，但不是所有的函数"
   ]
  },
  {
   "cell_type": "code",
   "execution_count": null,
   "metadata": {
    "jupyter": {
     "source_hidden": true
    }
   },
   "outputs": [],
   "source": [
    "results = []\n",
    "for x in data:\n",
    "    if is_even(x):  # even\n",
    "        y = delayed(double)(x)\n",
    "    else:          # odd\n",
    "        y = delayed(inc)(x)\n",
    "    results.append(y)\n",
    "    \n",
    "total = delayed(sum)(results)"
   ]
  },
  {
   "cell_type": "code",
   "execution_count": null,
   "metadata": {},
   "outputs": [],
   "source": [
    "%time total.compute()"
   ]
  },
  {
   "cell_type": "code",
   "execution_count": null,
   "metadata": {},
   "outputs": [],
   "source": [
    "total.visualize()"
   ]
  },
  {
   "cell_type": "markdown",
   "metadata": {},
   "source": [
    "### 一些问题需要考虑:\n",
    "\n",
    "- 还有哪些控制流的例子是我们不能使用延迟的？\n",
    "- 在上面的例子中，如果我们延迟了`is_even(x)`的评估，会发生什么？\n",
    "- 对于延迟`sum`，你有什么想法？ 这个函数既能计算，又能快速运行。"
   ]
  },
  {
   "cell_type": "markdown",
   "metadata": {},
   "source": [
    "## 练习: 通过还原并行化潘达斯集团\n",
    "\n",
    "在这个练习中，我们读取几个CSV文件，并并行执行一个groupby操作。 我们得到了做这个操作的顺序代码，并用`dask.delayed`进行并行化。\n",
    "\n",
    "我们要并行的计算是根据一些历史航班数据计算每个机场的平均起飞延迟。 我们将通过使用`dask.delayed`和`pandas`来完成。 在未来的一节中，我们将用`dask.dataframe`做同样的练习。"
   ]
  },
  {
   "cell_type": "markdown",
   "metadata": {},
   "source": [
    "## 创建数据\n",
    "\n",
    "运行这段代码来准备一些数据。\n",
    "\n",
    "这将下载并提取1990年至2000年期间纽约市外的一些历史航班数据。这些数据最初来自[这里](http://stat-computing.org/dataexpo/2009/the-data.html)。"
   ]
  },
  {
   "cell_type": "code",
   "execution_count": null,
   "metadata": {},
   "outputs": [],
   "source": [
    "%run prep.py -d flights"
   ]
  },
  {
   "cell_type": "markdown",
   "metadata": {},
   "source": [
    "### Inspect data"
   ]
  },
  {
   "cell_type": "code",
   "execution_count": null,
   "metadata": {},
   "outputs": [],
   "source": [
    "import os\n",
    "sorted(os.listdir(os.path.join('data', 'nycflights')))"
   ]
  },
  {
   "cell_type": "markdown",
   "metadata": {},
   "source": [
    "### 用`pandas.read_csv`读取一个文件，并计算平均出发延迟。"
   ]
  },
  {
   "cell_type": "code",
   "execution_count": null,
   "metadata": {},
   "outputs": [],
   "source": [
    "import pandas as pd\n",
    "df = pd.read_csv(os.path.join('data', 'nycflights', '1990.csv'))\n",
    "df.head()"
   ]
  },
  {
   "cell_type": "code",
   "execution_count": null,
   "metadata": {},
   "outputs": [],
   "source": [
    "# 模式是什么？\n",
    "df.dtypes"
   ]
  },
  {
   "cell_type": "code",
   "execution_count": null,
   "metadata": {},
   "outputs": [],
   "source": [
    "# 数据中有哪些始发机场？\n",
    "df.Origin.unique()"
   ]
  },
  {
   "cell_type": "code",
   "execution_count": null,
   "metadata": {},
   "outputs": [],
   "source": [
    "# 每个机场一年的平均离港延误时间\n",
    "df.groupby('Origin').DepDelay.mean()"
   ]
  },
  {
   "cell_type": "markdown",
   "metadata": {},
   "source": [
    "### 顺序代码：每个机场的平均起飞延误时间\n",
    "\n",
    "上面的单元格计算了一年中每个机场的平均起飞延误。这里，我们使用一个连续的for循环将其扩展到所有年份。"
   ]
  },
  {
   "cell_type": "code",
   "execution_count": null,
   "metadata": {},
   "outputs": [],
   "source": [
    "from glob import glob\n",
    "filenames = sorted(glob(os.path.join('data', 'nycflights', '*.csv')))"
   ]
  },
  {
   "cell_type": "code",
   "execution_count": null,
   "metadata": {},
   "outputs": [],
   "source": [
    "%%time\n",
    "\n",
    "sums = []\n",
    "counts = []\n",
    "for fn in filenames:\n",
    "    # Read in file\n",
    "    df = pd.read_csv(fn)\n",
    "    \n",
    "    # Groupby origin airport\n",
    "    by_origin = df.groupby('Origin')\n",
    "    \n",
    "    # Sum of all departure delays by origin\n",
    "    total = by_origin.DepDelay.sum()\n",
    "    \n",
    "    # Number of flights by origin\n",
    "    count = by_origin.DepDelay.count()\n",
    "    \n",
    "    # Save the intermediates\n",
    "    sums.append(total)\n",
    "    counts.append(count)\n",
    "\n",
    "# Combine intermediates to get total mean-delay-per-origin\n",
    "total_delays = sum(sums)\n",
    "n_flights = sum(counts)\n",
    "mean = total_delays / n_flights"
   ]
  },
  {
   "cell_type": "code",
   "execution_count": null,
   "metadata": {},
   "outputs": [],
   "source": [
    "mean"
   ]
  },
  {
   "cell_type": "markdown",
   "metadata": {},
   "source": [
    "### 将上面的代码并行化\n",
    "\n",
    "使用`dask.delayed`来并行化上面的代码。 一些额外的事情你需要知道。\n",
    "\n",
    "1.  延迟对象上的方法和属性访问会自动工作，所以如果你有一个延迟对象，你可以对它进行正常的运算、切片和方法调用，它会产生正确的延迟调用。\n",
    "\n",
    "    ```python\n",
    "    x = delayed(np.arange)(10)\n",
    "    y = (x + 1)[::2].sum()  # everything here was delayed\n",
    "    ```\n",
    "2.  当你有单一输出时，调用`.compute()`方法效果很好。 当你有多个输出时，你可能想使用`dask.compute`函数。\n",
    "\n",
    "    ```python\n",
    "    >>> from dask import compute\n",
    "    >>> x = delayed(np.arange)(10)\n",
    "    >>> y = x ** 2\n",
    "    >>> min_, max_ = compute(y.min(), y.max())\n",
    "    >>> min_, max_\n",
    "    (0, 81)\n",
    "    ```\n",
    "    \n",
    "    这样Dask就可以共享中间值（如`y = x**2`）。\n",
    "\n",
    "所以你的目标是使用`dask.delayed`来并行上面的代码（已经复制到下面）。 你可能还想可视化一下计算，看看你做的是否正确。"
   ]
  },
  {
   "cell_type": "code",
   "execution_count": null,
   "metadata": {},
   "outputs": [],
   "source": [
    "from dask import compute"
   ]
  },
  {
   "cell_type": "code",
   "execution_count": null,
   "metadata": {},
   "outputs": [],
   "source": [
    "%%time\n",
    "\n",
    "# copied sequential code\n",
    "\n",
    "sums = []\n",
    "counts = []\n",
    "for fn in filenames:\n",
    "    # Read in file\n",
    "    df = pd.read_csv(fn)\n",
    "    \n",
    "    # Groupby origin airport\n",
    "    by_origin = df.groupby('Origin')\n",
    "    \n",
    "    # Sum of all departure delays by origin\n",
    "    total = by_origin.DepDelay.sum()\n",
    "    \n",
    "    # Number of flights by origin\n",
    "    count = by_origin.DepDelay.count()\n",
    "    \n",
    "    # Save the intermediates\n",
    "    sums.append(total)\n",
    "    counts.append(count)\n",
    "\n",
    "# 合并中间值，得到总的平均每原点延迟时间\n",
    "total_delays = sum(sums)\n",
    "n_flights = sum(counts)\n",
    "mean = total_delays / n_flights"
   ]
  },
  {
   "cell_type": "code",
   "execution_count": null,
   "metadata": {},
   "outputs": [],
   "source": [
    "mean"
   ]
  },
  {
   "cell_type": "code",
   "execution_count": null,
   "metadata": {},
   "outputs": [],
   "source": [
    "%%time\n",
    "# your code here"
   ]
  },
  {
   "cell_type": "markdown",
   "metadata": {},
   "source": [
    "如果你加载了解决方案，在单元格顶部添加`%%time`来测量运行时间。"
   ]
  },
  {
   "cell_type": "code",
   "execution_count": null,
   "metadata": {
    "jupyter": {
     "source_hidden": true
    }
   },
   "outputs": [],
   "source": [
    "%%time\n",
    "\n",
    "# 这只是一个可能的解决方案，有几种方法可以使用 \"延迟 \"来实现。\n",
    "\n",
    "sums = []\n",
    "counts = []\n",
    "for fn in filenames:\n",
    "    # Read in file\n",
    "    df = delayed(pd.read_csv)(fn)\n",
    "\n",
    "    # Groupby origin airport\n",
    "    by_origin = df.groupby('Origin')\n",
    "\n",
    "    # Sum of all departure delays by origin\n",
    "    total = by_origin.DepDelay.sum()\n",
    "\n",
    "    # Number of flights by origin\n",
    "    count = by_origin.DepDelay.count()\n",
    "\n",
    "    # Save the intermediates\n",
    "    sums.append(total)\n",
    "    counts.append(count)\n",
    "\n",
    "# Compute the intermediates\n",
    "sums, counts = compute(sums, counts)\n",
    "\n",
    "# Combine intermediates to get total mean-delay-per-origin\n",
    "total_delays = sum(sums)\n",
    "n_flights = sum(counts)\n",
    "mean = total_delays / n_flights"
   ]
  },
  {
   "cell_type": "code",
   "execution_count": null,
   "metadata": {},
   "outputs": [],
   "source": [
    "# ensure the results still match\n",
    "mean"
   ]
  },
  {
   "cell_type": "markdown",
   "metadata": {},
   "source": [
    "### 一些问题需要考虑：\n",
    "\n",
    "- 你的速度提升了多少？这是你期望的速度吗？\n",
    "- 实验一下在哪里调用 \"compute\"。当你在 \"sums \"和 \"counts \"上调用它会发生什么？如果你等待并在 \"mean \"上调用它会发生什么？\n",
    "- 实验一下延迟调用`sum`。如果延迟调用`sum`，图形是什么样子的？如果不延时，图形是什么样子的？\n",
    "- 你能想到为什么要用一种方式而不是另一种方式进行还原吗？\n",
    "\n",
    "### 了解更多\n",
    "\n",
    "访问[delayed文档](https://docs.dask.org/en/latest/delayed.html)。特别是这个[延迟屏幕广播](https://www.youtube.com/watch?v=SHqFmynRxVU)将强化你在这里学到的概念，[延迟最佳实践](https://docs.dask.org/en/latest/delayed-best-practices.html)文档收集了关于如何使用好`dask.delayed`的建议。"
   ]
  },
  {
   "cell_type": "markdown",
   "metadata": {},
   "source": [
    "## 关闭客户端\n",
    "\n",
    "在进行下一个练习之前，请确保关闭你的客户端或停止这个内核。"
   ]
  },
  {
   "cell_type": "code",
   "execution_count": null,
   "metadata": {},
   "outputs": [],
   "source": [
    "client.close()"
   ]
  }
 ],
 "metadata": {
  "kernelspec": {
   "display_name": "Python 3",
   "language": "python",
   "name": "python3"
  },
  "language_info": {
   "codemirror_mode": {
    "name": "ipython",
    "version": 3
   },
   "file_extension": ".py",
   "mimetype": "text/x-python",
   "name": "python",
   "nbconvert_exporter": "python",
   "pygments_lexer": "ipython3",
   "version": "3.8.3"
  }
 },
 "nbformat": 4,
 "nbformat_minor": 4
}